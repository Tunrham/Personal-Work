{
 "cells": [
  {
   "cell_type": "code",
   "execution_count": 1,
   "metadata": {},
   "outputs": [],
   "source": [
    "# Going to Look at the Serve Match Statistics as Outlined in the Brief\n",
    "    # Remembering that I want to do this by Player Initials:\n"
   ]
  },
  {
   "cell_type": "code",
   "execution_count": 2,
   "metadata": {},
   "outputs": [],
   "source": [
    "# Brief:\n",
    "    \n",
    "    # Serve Information:\n",
    "    # By Side\n",
    "        # For First Serve\n",
    "            # Directions\n",
    "                # Frequencies\n",
    "                # Accuracy\n",
    "        # For Second Serve\n",
    "            # Directions\n",
    "                # Frequencies\n",
    "                # Accuracy\n",
    "    # Miscellaneous Serve Data:\n",
    "        # Service Points Won:\n",
    "            # First Serve (Total)\n",
    "            # Second Serve (Total)\n",
    "            # By Direction on First Serve\n",
    "            # By Direction on Second Serve\n",
    "        # Serve Volley Frequency (by Side)\n",
    "            # Serve & Volley Efficiency (% of times SV/% of times SV won point)\n",
    "    # Direction on Big Points:\n",
    "        # First Serve:\n",
    "            # 0-0\n",
    "            # 30-30\n",
    "            # 30-40\n",
    "            # Duece\n",
    "        # Second Serve\n",
    "            # 0-0\n",
    "            # 30-30\n",
    "            # 30-40\n",
    "            # Duece\n"
   ]
  },
  {
   "cell_type": "code",
   "execution_count": 3,
   "metadata": {},
   "outputs": [],
   "source": [
    "# Import Libraries:\n",
    "\n",
    "import numpy as np\n",
    "import pandas as pd\n",
    "import seaborn as sns\n",
    "import matplotlib.pyplot as plt\n",
    "\n",
    "%matplotlib inline"
   ]
  },
  {
   "cell_type": "code",
   "execution_count": 31,
   "metadata": {},
   "outputs": [],
   "source": [
    "# Bring in Test Dataset:\n",
    "\n",
    "ds = pd.read_csv(\"DjoWaw.csv\")\n",
    "\n"
   ]
  },
  {
   "cell_type": "code",
   "execution_count": 46,
   "metadata": {},
   "outputs": [],
   "source": [
    "# Preprocessing Steps\n",
    "\n",
    "## Remove Tiebreaks\n",
    "\n",
    "notb = ds[(ds.TBpt.isna())]"
   ]
  },
  {
   "cell_type": "code",
   "execution_count": 58,
   "metadata": {},
   "outputs": [],
   "source": [
    "## Add Spaces to the Rally Data:\n",
    "\n",
    "def token_maker(string):\n",
    "    string = string.replace(\"f\", \" f\")\n",
    "    string = string.replace(\"b\", \" b\")\n",
    "    string = string.replace(\"r\", \" r\")\n",
    "    string = string.replace(\"s\", \" s\")\n",
    "    string = string.replace(\"v\", \" v\")\n",
    "    string = string.replace(\"z\", \" z\")\n",
    "    string = string.replace(\"o\", \" o\")\n",
    "    string = string.replace(\"p\", \" p\")\n",
    "    string = string.replace(\"l\", \" l\")\n",
    "    string = string.replace(\"m\", \" m\")\n",
    "    string = string.replace(\"h\", \" h\")\n",
    "    string = string.replace(\"i\", \" i\")\n",
    "    string = string.replace(\"j\", \" j\")\n",
    "    string = string.replace(\"k\", \" k\")\n",
    "    string = string.replace(\"t\", \" t\")\n",
    "    string = string.replace(\"q\", \" q\")\n",
    "    \n",
    "    return print(string)\n",
    "\n"
   ]
  },
  {
   "cell_type": "code",
   "execution_count": 66,
   "metadata": {},
   "outputs": [
    {
     "name": "stdout",
     "output_type": "stream",
     "text": [
      "4 f27 b2 b2d@\n"
     ]
    },
    {
     "ename": "AttributeError",
     "evalue": "'float' object has no attribute 'replace'",
     "output_type": "error",
     "traceback": [
      "\u001b[1;31m---------------------------------------------------------------------------\u001b[0m",
      "\u001b[1;31mAttributeError\u001b[0m                            Traceback (most recent call last)",
      "\u001b[1;32m<ipython-input-66-e4f3a100e59a>\u001b[0m in \u001b[0;36m<module>\u001b[1;34m()\u001b[0m\n\u001b[0;32m      2\u001b[0m \u001b[1;33m\u001b[0m\u001b[0m\n\u001b[0;32m      3\u001b[0m \u001b[1;32mwhile\u001b[0m \u001b[0mc\u001b[0m \u001b[1;33m<\u001b[0m \u001b[0mlen\u001b[0m\u001b[1;33m(\u001b[0m\u001b[0mnotb\u001b[0m\u001b[1;33m)\u001b[0m\u001b[1;33m:\u001b[0m\u001b[1;33m\u001b[0m\u001b[0m\n\u001b[1;32m----> 4\u001b[1;33m     \u001b[0mtoken_maker\u001b[0m\u001b[1;33m(\u001b[0m\u001b[0mnotb\u001b[0m\u001b[1;33m.\u001b[0m\u001b[0miloc\u001b[0m\u001b[1;33m[\u001b[0m\u001b[0mc\u001b[0m\u001b[1;33m,\u001b[0m\u001b[1;36m15\u001b[0m\u001b[1;33m]\u001b[0m\u001b[1;33m)\u001b[0m\u001b[1;33m\u001b[0m\u001b[0m\n\u001b[0m\u001b[0;32m      5\u001b[0m     \u001b[0mc\u001b[0m\u001b[1;33m=\u001b[0m\u001b[0mc\u001b[0m\u001b[1;33m+\u001b[0m\u001b[1;36m1\u001b[0m\u001b[1;33m\u001b[0m\u001b[0m\n",
      "\u001b[1;32m<ipython-input-58-a09bdc4dd974>\u001b[0m in \u001b[0;36mtoken_maker\u001b[1;34m(string)\u001b[0m\n\u001b[0;32m      2\u001b[0m \u001b[1;33m\u001b[0m\u001b[0m\n\u001b[0;32m      3\u001b[0m \u001b[1;32mdef\u001b[0m \u001b[0mtoken_maker\u001b[0m\u001b[1;33m(\u001b[0m\u001b[0mstring\u001b[0m\u001b[1;33m)\u001b[0m\u001b[1;33m:\u001b[0m\u001b[1;33m\u001b[0m\u001b[0m\n\u001b[1;32m----> 4\u001b[1;33m     \u001b[0mstring\u001b[0m \u001b[1;33m=\u001b[0m \u001b[0mstring\u001b[0m\u001b[1;33m.\u001b[0m\u001b[0mreplace\u001b[0m\u001b[1;33m(\u001b[0m\u001b[1;34m\"f\"\u001b[0m\u001b[1;33m,\u001b[0m \u001b[1;34m\" f\"\u001b[0m\u001b[1;33m)\u001b[0m\u001b[1;33m\u001b[0m\u001b[0m\n\u001b[0m\u001b[0;32m      5\u001b[0m     \u001b[0mstring\u001b[0m \u001b[1;33m=\u001b[0m \u001b[0mstring\u001b[0m\u001b[1;33m.\u001b[0m\u001b[0mreplace\u001b[0m\u001b[1;33m(\u001b[0m\u001b[1;34m\"b\"\u001b[0m\u001b[1;33m,\u001b[0m \u001b[1;34m\" b\"\u001b[0m\u001b[1;33m)\u001b[0m\u001b[1;33m\u001b[0m\u001b[0m\n\u001b[0;32m      6\u001b[0m     \u001b[0mstring\u001b[0m \u001b[1;33m=\u001b[0m \u001b[0mstring\u001b[0m\u001b[1;33m.\u001b[0m\u001b[0mreplace\u001b[0m\u001b[1;33m(\u001b[0m\u001b[1;34m\"r\"\u001b[0m\u001b[1;33m,\u001b[0m \u001b[1;34m\" r\"\u001b[0m\u001b[1;33m)\u001b[0m\u001b[1;33m\u001b[0m\u001b[0m\n",
      "\u001b[1;31mAttributeError\u001b[0m: 'float' object has no attribute 'replace'"
     ]
    }
   ],
   "source": [
    "c = 0\n",
    "\n",
    "while c < len(notb):\n",
    "    token_maker(notb.iloc[c,15])\n",
    "    c=c+1"
   ]
  },
  {
   "cell_type": "code",
   "execution_count": 63,
   "metadata": {},
   "outputs": [
    {
     "data": {
      "text/plain": [
       "0                                     5d\n",
       "1                       4s28f1f1f2b3b2n#\n",
       "2                                     4n\n",
       "3                                     4n\n",
       "4                                  6s2d#\n",
       "5                                     4n\n",
       "6                                     4w\n",
       "7                        4s28f+1f2v2b1w@\n",
       "8                                     6*\n",
       "9                              6f28bb3w@\n",
       "10                                    5n\n",
       "11                                    6d\n",
       "12                                    5d\n",
       "13                              6f28b2n@\n",
       "14                                    4*\n",
       "15                          4s27f+1l1o2*\n",
       "16                                   6s#\n",
       "17                                    4*\n",
       "18                              c6s28f1*\n",
       "19                      4b29f1f2f+1r3z3*\n",
       "20                                    4w\n",
       "21                                    4n\n",
       "22                                    4n\n",
       "23                                    4n\n",
       "24                    4s38f3b3b2f1f1f2d#\n",
       "25                    5b38f3b3f2f1f2b3w@\n",
       "26                                 6r2d#\n",
       "27                                    6d\n",
       "28              4f29f3b3b3b2b2f1r2f3s2n#\n",
       "29                                    6d\n",
       "                      ...               \n",
       "1980                      4r29f1f1f3s3n#\n",
       "1981                                  4*\n",
       "1982                                  6n\n",
       "1983                                  6x\n",
       "1984                         6f28f3y3b3*\n",
       "1985                                  4n\n",
       "1986                                  6d\n",
       "1987                                  4w\n",
       "1988                                  4w\n",
       "1989    6s27f3b2b2f2b2b3b3b2f2f1f1f1f3d@\n",
       "1990                  4s28f1r2f2b3b3b3x@\n",
       "1991                         4r29b1f1f3*\n",
       "1992                                  4*\n",
       "1993                               6s3n#\n",
       "1994                     6s27f+3s1o1r2d#\n",
       "1995                                  6d\n",
       "1996                                  4d\n",
       "1997                          6f37b3b3n#\n",
       "1998                                  6d\n",
       "1999                                  4n\n",
       "2000                     6s19f+3b3z3b;1*\n",
       "2001                                  6#\n",
       "2002                                  6d\n",
       "2003                                  6n\n",
       "2004                             4f18b3*\n",
       "2005                                  6w\n",
       "2006                                  6w\n",
       "2007                                  6d\n",
       "2008                            4f28b3n@\n",
       "2009                                  6w\n",
       "Name: 1st, Length: 1971, dtype: object"
      ]
     },
     "execution_count": 63,
     "metadata": {},
     "output_type": "execute_result"
    }
   ],
   "source": [
    "notb['1st']"
   ]
  },
  {
   "cell_type": "code",
   "execution_count": 27,
   "metadata": {},
   "outputs": [
    {
     "ename": "NameError",
     "evalue": "name 'data_x' is not defined",
     "output_type": "error",
     "traceback": [
      "\u001b[1;31m---------------------------------------------------------------------------\u001b[0m",
      "\u001b[1;31mNameError\u001b[0m                                 Traceback (most recent call last)",
      "\u001b[1;32m<ipython-input-27-8fa0cc728cac>\u001b[0m in \u001b[0;36m<module>\u001b[1;34m()\u001b[0m\n\u001b[1;32m----> 1\u001b[1;33m \u001b[0mdata_x\u001b[0m\u001b[1;33m.\u001b[0m\u001b[0mhead\u001b[0m\u001b[1;33m(\u001b[0m\u001b[1;33m)\u001b[0m\u001b[1;33m\u001b[0m\u001b[0m\n\u001b[0m",
      "\u001b[1;31mNameError\u001b[0m: name 'data_x' is not defined"
     ]
    }
   ],
   "source": []
  },
  {
   "cell_type": "code",
   "execution_count": null,
   "metadata": {},
   "outputs": [],
   "source": []
  }
 ],
 "metadata": {
  "kernelspec": {
   "display_name": "Python 3",
   "language": "python",
   "name": "python3"
  },
  "language_info": {
   "codemirror_mode": {
    "name": "ipython",
    "version": 3
   },
   "file_extension": ".py",
   "mimetype": "text/x-python",
   "name": "python",
   "nbconvert_exporter": "python",
   "pygments_lexer": "ipython3",
   "version": "3.6.4"
  }
 },
 "nbformat": 4,
 "nbformat_minor": 2
}
