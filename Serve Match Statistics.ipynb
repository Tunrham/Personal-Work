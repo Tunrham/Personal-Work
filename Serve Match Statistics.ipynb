{
 "cells": [
  {
   "cell_type": "code",
   "execution_count": 92,
   "metadata": {},
   "outputs": [],
   "source": [
    "# Going to Look at the Serve Match Statistics as Outlined in the Brief\n",
    "    # Remembering that I want to do this by Player Initials:\n"
   ]
  },
  {
   "cell_type": "code",
   "execution_count": 93,
   "metadata": {},
   "outputs": [],
   "source": [
    "# Brief:\n",
    "    \n",
    "    # Serve Information:\n",
    "    # By Side\n",
    "        # For First Serve\n",
    "            # Directions\n",
    "                # Frequencies\n",
    "                # Accuracy\n",
    "        # For Second Serve\n",
    "            # Directions\n",
    "                # Frequencies\n",
    "                # Accuracy\n",
    "    # Miscellaneous Serve Data:\n",
    "        # Service Points Won:\n",
    "            # First Serve (Total)\n",
    "            # Second Serve (Total)\n",
    "            # By Direction on First Serve\n",
    "            # By Direction on Second Serve\n",
    "        # Serve Volley Frequency (by Side)\n",
    "            # Serve & Volley Efficiency (% of times SV/% of times SV won point)\n",
    "    # Direction on Big Points:\n",
    "        # First Serve:\n",
    "            # 0-0\n",
    "            # 30-30\n",
    "            # 30-40\n",
    "            # Duece\n",
    "        # Second Serve\n",
    "            # 0-0\n",
    "            # 30-30\n",
    "            # 30-40\n",
    "            # Duece\n"
   ]
  },
  {
   "cell_type": "code",
   "execution_count": 94,
   "metadata": {},
   "outputs": [],
   "source": [
    "# Import Libraries:\n",
    "\n",
    "import numpy as np\n",
    "import pandas as pd\n",
    "import seaborn as sns\n",
    "import matplotlib.pyplot as plt\n",
    "\n",
    "%matplotlib inline"
   ]
  },
  {
   "cell_type": "code",
   "execution_count": 95,
   "metadata": {},
   "outputs": [],
   "source": [
    "# Bring in Test Dataset:\n",
    "\n",
    "ds = pd.read_csv(\"DjoWawProcessed.csv\")\n",
    "\n"
   ]
  },
  {
   "cell_type": "code",
   "execution_count": 96,
   "metadata": {},
   "outputs": [],
   "source": [
    "# Now if you haven't preprocessed your dataset, I'd do that now"
   ]
  },
  {
   "cell_type": "code",
   "execution_count": 97,
   "metadata": {},
   "outputs": [],
   "source": [
    "# FIrst step, we should split our dataset by player\n",
    "\n",
    "## Depending on which players are in your Dataset, you're going to need to change the initials \n",
    "## for \"ND\" or for \"SW\".\n",
    "P1_S = ds[(ds[\"Serving\"]==\"ND\")] # P1 represents Djokovic\n",
    "P2_S = ds[(ds[\"Serving\"]==\"SW\")] # P2 represents Wawrinka\n",
    "\n"
   ]
  },
  {
   "cell_type": "code",
   "execution_count": 98,
   "metadata": {},
   "outputs": [],
   "source": [
    "# I guess at this stage we're going to be doing it with both players\n",
    "\n",
    "# Ok, the first part of the brief was:\n",
    "\n",
    "# By Side\n",
    "\n",
    "    ## DS1 (Duece Side Player 1) [In this Case it's Djokovic]\n",
    "DS1 = P1_S[(P1_S[\"Pts\"]==\"0-0\") | (P1_S[\"Pts\"]==\"30-0\") | (P1_S[\"Pts\"]==\"0-30\") | (P1_S[\"Pts\"]==\"15-15\") | (P1_S[\"Pts\"]==\"30-30\") | (P1_S[\"Pts\"]==\"40-15\") | (P1_S[\"Pts\"]==\"15-40\") | (P1_S[\"Pts\"]==\"40-40\")]\n",
    "    ## AS1 (Ad Side Player 1) [In this Case it's Djokovic]\n",
    "AS1 = P1_S[(P1_S[\"Pts\"]!=\"0-0\") & (P1_S[\"Pts\"]!=\"30-0\") & (P1_S[\"Pts\"]!=\"0-30\") & (P1_S[\"Pts\"]!=\"15-15\") & (P1_S[\"Pts\"]!=\"30-30\") & (P1_S[\"Pts\"]!=\"40-15\") & (P1_S[\"Pts\"]!=\"15-40\") & (P1_S[\"Pts\"]!=\"40-40\")]\n",
    "\n",
    "    ## DS2 (Duece SIde PLayer 2) [In This Case it's Wawrinka]\n",
    "DS2 = P2_S[(P2_S[\"Pts\"]==\"0-0\") | (P2_S[\"Pts\"]==\"30-0\") | (P2_S[\"Pts\"]==\"0-30\") | (P2_S[\"Pts\"]==\"15-15\") | (P2_S[\"Pts\"]==\"30-30\") | (P2_S[\"Pts\"]==\"40-15\") | (P2_S[\"Pts\"]==\"15-40\") | (P2_S[\"Pts\"]==\"40-40\")]\n",
    "    ## AS1 (Ad Side Player 2) [In this Case it's Wawrinka]\n",
    "AS2 = P2_S[(P2_S[\"Pts\"]!=\"0-0\") & (P2_S[\"Pts\"]!=\"30-0\") & (P2_S[\"Pts\"]!=\"0-30\") & (P2_S[\"Pts\"]!=\"15-15\") & (P2_S[\"Pts\"]!=\"30-30\") & (P2_S[\"Pts\"]!=\"40-15\") & (P2_S[\"Pts\"]!=\"15-40\") & (P2_S[\"Pts\"]!=\"40-40\")]\n",
    "\n",
    "    ## I've chosen DS1/2 and AS1/2 so that we don't need to rechange player names when \n",
    "    ## creating and recalling objects later on down the track (I.E for different players\n",
    "    ## and different datasets. This means all we need to adjust are the ds[(ds[\"Serving\"]==\"ND\")]\n",
    "    ## and ds[(ds[\"Serving\"]==\"SW\")] above, and no other code!)\n",
    "\n",
    "# For First Serve\n",
    "    ## Player 1 (Duece Side) (Directions)\n",
    "P1_DS_1st = DS1['Sv1'].str[0].value_counts()\n",
    "        ### Player 1 (Duece Side) Total Serve Count (With Relevant Value [So, Wide, Body, Tee])\n",
    "SumP1_DS_1st = P1_DS_1st['4']+P1_DS_1st['5']+P1_DS_1st['6']\n",
    "        ### Player 1 (Duece Side) Total Serve Percentages (Wide, Body, Tee)\n",
    "PctP1_DS_1st = DS1['Sv1'].str[0].value_counts(1)\n",
    "            #### Player 1 Serves by Direction on Duece Side\n",
    "P1_DS_Wpct = PctP1_DS_1st['4'] # These are all the Wide Serves\n",
    "P1_DS_Bpct = PctP1_DS_1st['5'] # These are all the Body Serves\n",
    "P1_DS_Tpct = PctP1_DS_1st['6'] # These are all the Tee Serves\n",
    "\n",
    "        ### Player 1 (Ad Side) (Directions)\n",
    "P1_AS_1st = AS1['Sv1'].str[0].value_counts()\n",
    "        ### Player 1 (Ad Side) Total Serve Count (With Relevant Value [So, Wide, Body, Tee])\n",
    "SumP1_AS_1st = P1_AS_1st['4']+P1_AS_1st['5']+P1_AS_1st['6']\n",
    "        ### Player 1 (Ad Side) Total Serve Percentages (Wide, Body, Tee)\n",
    "PctP1_AS_1st = AS1['Sv1'].str[0].value_counts(1)\n",
    "            #### Player 1 Serves by Direction on Ad Side\n",
    "P1_AS_Wpct = PctP1_AS_1st['4'] # These are all the Wide Serves\n",
    "P1_AS_Bpct = PctP1_AS_1st['5'] # These are all the Body Serves\n",
    "P1_AS_Tpct = PctP1_AS_1st['6'] # These are all the Tee Serves\n",
    "\n",
    "\n",
    "    ## PLayer 2 (Duece Side) (Directions)\n",
    "P2_DS_1st = DS2['Sv1'].str[0].value_counts()\n",
    "        ### Player 2 (Duece Side) Total Serve Count (With Relevant Value [So, Wide, Body, Tee])\n",
    "SumP2_DS_1st = P2_DS_1st['4']+P2_DS_1st['5']+P2_DS_1st['6']\n",
    "        ### Player 2 (Duece Side) Total Serve Percentages (Wide, Body, Tee)\n",
    "PctP2_DS_1st = DS2['Sv1'].str[0].value_counts(1)\n",
    "            #### Player 2 Serves by Direction on Duece Side\n",
    "P2_DS_Wpct = PctP2_DS_1st['4'] # These are all the Wide Serves\n",
    "P2_DS_Bpct = PctP2_DS_1st['5'] # These are all the Body Serves\n",
    "P2_DS_Tpct = PctP2_DS_1st['6'] # These are all the Tee Serves\n",
    "\n",
    "        ### Player 2 (Ad Side) (Directions)\n",
    "P2_AS_1st = AS2['Sv1'].str[0].value_counts()\n",
    "        ### Player 2 (Ad Side) Total Serve Count (With Relevant Value [So, Wide, Body, Tee])\n",
    "SumP2_AS_1st = P2_AS_1st['4']+P2_AS_1st['5']+P2_AS_1st['6']\n",
    "        ### Player 2 (Ad Side) Total Serve Percentages (Wide, Body, Tee)\n",
    "PctP2_AS_1st = AS2['Sv1'].str[0].value_counts(1)\n",
    "            #### Player 2 Serves by Direction on Ad Side\n",
    "P2_AS_Wpct = PctP2_AS_1st['4'] # These are all the Wide Serves\n",
    "P2_AS_Bpct = PctP2_AS_1st['5'] # These are all the Body Serves\n",
    "P2_AS_Tpct = PctP2_AS_1st['6'] # These are all the Tee Serves\n",
    "\n",
    "# Now to Add Accuracy by Side!\n",
    "\n",
    "\n"
   ]
  },
  {
   "cell_type": "code",
   "execution_count": 99,
   "metadata": {},
   "outputs": [
    {
     "name": "stdout",
     "output_type": "stream",
     "text": [
      "4    203\n",
      "6    199\n",
      "5     69\n",
      "0      2\n",
      "Q      1\n",
      "Name: Sv1, dtype: int64\n"
     ]
    }
   ],
   "source": [
    "print(P1_DS_1st)"
   ]
  },
  {
   "cell_type": "code",
   "execution_count": 100,
   "metadata": {},
   "outputs": [
    {
     "name": "stdout",
     "output_type": "stream",
     "text": [
      "Player Name:  ND\n",
      "--Duece Side--  Count:  471\n",
      "-First Serves-\n",
      "Wide  0.4282700421940928 % at\n",
      "Body  0.14556962025316456 % at\n",
      "Tee  0.41983122362869196 % at\n",
      "--Advan Side--  Count:  433\n",
      "-First Serves-\n",
      "Wide  0.48498845265588914 % at\n",
      "Body  0.12702078521939955 % at\n",
      "Tee  0.38799076212471134 % at\n"
     ]
    }
   ],
   "source": [
    "# P1 First Serve Wide:\n",
    "print(\"Player Name: \", P1_S['Serving'].mode()[0]) # Yeah this is fairly naughty code\n",
    "print(\"--Duece Side--\", \" Count: \", SumP1_DS_1st)\n",
    "print(\"-First Serves-\")\n",
    "print(\"Wide \", P1_DS_Wpct, \"%\", \"at\")\n",
    "print(\"Body \", P1_DS_Bpct, \"%\", \"at\")\n",
    "print(\"Tee \", P1_DS_Tpct, \"%\", \"at\")\n",
    "print(\"--Advan Side--\", \" Count: \", SumP1_AS_1st)\n",
    "print(\"-First Serves-\")\n",
    "print(\"Wide \", P1_AS_Wpct, \"%\", \"at\")\n",
    "print(\"Body \", P1_AS_Bpct, \"%\", \"at\")\n",
    "print(\"Tee \", P1_AS_Tpct, \"%\", \"at\")"
   ]
  },
  {
   "cell_type": "code",
   "execution_count": 101,
   "metadata": {},
   "outputs": [
    {
     "name": "stdout",
     "output_type": "stream",
     "text": [
      "Player Name:  SW\n",
      "--Duece Side--  Count:  548\n",
      "-First Serves-\n",
      "Wide  0.5683060109289617 % at\n",
      "Body  0.1092896174863388 % at\n",
      "Tee  0.3205828779599271 % at\n",
      "--Advan Side--  Count:  512\n",
      "-First Serves-\n",
      "Wide  0.42330097087378643 % at\n",
      "Body  0.08155339805825243 % at\n",
      "Tee  0.4893203883495146 % at\n"
     ]
    }
   ],
   "source": [
    "# P2 First Serve Wide:\n",
    "print(\"Player Name: \", P2_S['Serving'].mode()[0]) # Yeah this is fairly naughty code\n",
    "print(\"--Duece Side--\", \" Count: \", SumP2_DS_1st)\n",
    "print(\"-First Serves-\")\n",
    "print(\"Wide \", P2_DS_Wpct, \"%\", \"at\")\n",
    "print(\"Body \", P2_DS_Bpct, \"%\", \"at\")\n",
    "print(\"Tee \", P2_DS_Tpct, \"%\", \"at\")\n",
    "print(\"--Advan Side--\", \" Count: \", SumP2_AS_1st)\n",
    "print(\"-First Serves-\")\n",
    "print(\"Wide \", P2_AS_Wpct, \"%\", \"at\")\n",
    "print(\"Body \", P2_AS_Bpct, \"%\", \"at\")\n",
    "print(\"Tee \", P2_AS_Tpct, \"%\", \"at\")"
   ]
  },
  {
   "cell_type": "code",
   "execution_count": null,
   "metadata": {},
   "outputs": [],
   "source": []
  },
  {
   "cell_type": "code",
   "execution_count": null,
   "metadata": {},
   "outputs": [],
   "source": []
  }
 ],
 "metadata": {
  "kernelspec": {
   "display_name": "Python 3",
   "language": "python",
   "name": "python3"
  },
  "language_info": {
   "codemirror_mode": {
    "name": "ipython",
    "version": 3
   },
   "file_extension": ".py",
   "mimetype": "text/x-python",
   "name": "python",
   "nbconvert_exporter": "python",
   "pygments_lexer": "ipython3",
   "version": "3.6.8"
  }
 },
 "nbformat": 4,
 "nbformat_minor": 2
}
