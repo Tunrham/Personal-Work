{
 "cells": [
  {
   "cell_type": "code",
   "execution_count": 1,
   "metadata": {},
   "outputs": [],
   "source": [
    "import time\n",
    "import random as rd"
   ]
  },
  {
   "cell_type": "code",
   "execution_count": 2,
   "metadata": {},
   "outputs": [],
   "source": [
    "# Alphabetical List of NBA Fantasy League Members\n",
    "\n",
    "Draftees = [\"Bloore\",\n",
    "            \"Bates\",\n",
    "            \"Carruthers_A\",\n",
    "            \"Carruthers_S\",\n",
    "            \"Chappel\",\n",
    "            \"Dyce\",\n",
    "            \"Hill\",\n",
    "            \"Karomoshos\",\n",
    "            \"Murray\",\n",
    "            \"Smith\",\n",
    "            \"Thacker\",\n",
    "            \"Turnham\"]"
   ]
  },
  {
   "cell_type": "code",
   "execution_count": 3,
   "metadata": {},
   "outputs": [],
   "source": [
    "# Random Shuffling of List of Members\n",
    "\n",
    "def DraftOrder (alist):\n",
    "    count = 0\n",
    "    print(\"Registering Players for Draft...\", \"\\n\")\n",
    "    while count < len(alist):\n",
    "        print(alist[count], \"is Registered for the Draft.\")\n",
    "        count = count + 1\n",
    "        time.sleep(0.7) # For the Theatrics of course!\n",
    "        if count == len(alist):\n",
    "            count = 0\n",
    "            break\n",
    "    print(\"\\n\", \"Draft Order Being Randomised...\")\n",
    "    Draft_Order = alist[:]\n",
    "    rd.shuffle(Draft_Order)\n",
    "    \n",
    "    print(\"\\n\", \"Draft Order Set\", \"\\n\")\n",
    "    \n",
    "    count = 0\n",
    "    print(\"The Draft Order is...\")\n",
    "    time.sleep(3) # Much Theatre, Such Excitement\n",
    "    \n",
    "    while count < len(Draft_Order):\n",
    "        print(Draft_Order[count], \" has pick number: \", count+1)\n",
    "        time.sleep(3) # The Suspense is Killing everyone!\n",
    "        count = count + 1\n",
    "        if count == len(Draft_Order):\n",
    "            break        \n",
    "    "
   ]
  },
  {
   "cell_type": "code",
   "execution_count": 4,
   "metadata": {},
   "outputs": [],
   "source": [
    "# Print the Draft Order\n",
    "\n",
    "DraftOrder(Draftees)"
   ]
  }
 ],
 "metadata": {
  "kernelspec": {
   "display_name": "Python 3",
   "language": "python",
   "name": "python3"
  },
  "language_info": {
   "codemirror_mode": {
    "name": "ipython",
    "version": 3
   },
   "file_extension": ".py",
   "mimetype": "text/x-python",
   "name": "python",
   "nbconvert_exporter": "python",
   "pygments_lexer": "ipython3",
   "version": "3.6.8"
  }
 },
 "nbformat": 4,
 "nbformat_minor": 2
}
